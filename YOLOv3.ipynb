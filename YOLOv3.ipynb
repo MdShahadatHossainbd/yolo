{
  "nbformat": 4,
  "nbformat_minor": 0,
  "metadata": {
    "colab": {
      "name": "YOLOv3.ipynb",
      "provenance": [],
      "authorship_tag": "ABX9TyNOJ3GCrCWv8NnqvZ7mYUJr",
      "include_colab_link": true
    },
    "kernelspec": {
      "name": "python3",
      "display_name": "Python 3"
    },
    "accelerator": "GPU"
  },
  "cells": [
    {
      "cell_type": "markdown",
      "metadata": {
        "id": "view-in-github",
        "colab_type": "text"
      },
      "source": [
        "<a href=\"https://colab.research.google.com/github/MdShahadatHossainbd/yolo/blob/main/YOLOv3.ipynb\" target=\"_parent\"><img src=\"https://colab.research.google.com/assets/colab-badge.svg\" alt=\"Open In Colab\"/></a>"
      ]
    },
    {
      "cell_type": "code",
      "metadata": {
        "id": "Zf4w1jjr4sjY",
        "outputId": "89a4f8a8-6648-497e-8525-155ead32a10b",
        "colab": {
          "base_uri": "https://localhost:8080/"
        }
      },
      "source": [
        "from google.colab import drive\n",
        "drive.mount('/content/drive')"
      ],
      "execution_count": null,
      "outputs": [
        {
          "output_type": "stream",
          "text": [
            "Mounted at /content/drive\n"
          ],
          "name": "stdout"
        }
      ]
    },
    {
      "cell_type": "code",
      "metadata": {
        "id": "K4mlt-zS5WjR",
        "outputId": "c6fb4f54-084e-4270-aa7d-209edccd96ea",
        "colab": {
          "base_uri": "https://localhost:8080/"
        }
      },
      "source": [
        "!ls '/content/drive/My Drive/yolo_custom_model_training'"
      ],
      "execution_count": null,
      "outputs": [
        {
          "output_type": "stream",
          "text": [
            "backup\tcustom_data.zip  custom_weight\tdarknet\n"
          ],
          "name": "stdout"
        }
      ]
    },
    {
      "cell_type": "code",
      "metadata": {
        "id": "sULJm-g55igj",
        "outputId": "4de18dd0-6a8f-4cea-b860-08814a5f1f21",
        "colab": {
          "base_uri": "https://localhost:8080/"
        }
      },
      "source": [
        "#!unzip '/content/drive/My Drive/yolo_custom_model_training/custom_data.zip' -d '/content/drive/My Drive/yolo_custom_model_training'"
      ],
      "execution_count": null,
      "outputs": [
        {
          "output_type": "stream",
          "text": [
            "Archive:  /content/drive/My Drive/yolo_custom_model_training/custom_data.zip\n",
            "   creating: /content/drive/My Drive/yolo_custom_model_training/custom_data/\n",
            "  inflating: /content/drive/My Drive/yolo_custom_model_training/custom_data/1.jpg  \n",
            "  inflating: /content/drive/My Drive/yolo_custom_model_training/custom_data/1.txt  \n",
            "  inflating: /content/drive/My Drive/yolo_custom_model_training/custom_data/10.jpg  \n",
            "  inflating: /content/drive/My Drive/yolo_custom_model_training/custom_data/10.txt  \n",
            "  inflating: /content/drive/My Drive/yolo_custom_model_training/custom_data/11.jpg  \n",
            "  inflating: /content/drive/My Drive/yolo_custom_model_training/custom_data/11.txt  \n",
            "  inflating: /content/drive/My Drive/yolo_custom_model_training/custom_data/12.jpg  \n",
            "  inflating: /content/drive/My Drive/yolo_custom_model_training/custom_data/12.txt  \n",
            " extracting: /content/drive/My Drive/yolo_custom_model_training/custom_data/13.jpg  \n",
            "  inflating: /content/drive/My Drive/yolo_custom_model_training/custom_data/13.txt  \n",
            "  inflating: /content/drive/My Drive/yolo_custom_model_training/custom_data/14.jpg  \n",
            "  inflating: /content/drive/My Drive/yolo_custom_model_training/custom_data/14.txt  \n",
            "  inflating: /content/drive/My Drive/yolo_custom_model_training/custom_data/15.jpg  \n",
            "  inflating: /content/drive/My Drive/yolo_custom_model_training/custom_data/15.txt  \n",
            "  inflating: /content/drive/My Drive/yolo_custom_model_training/custom_data/16.jpg  \n",
            "  inflating: /content/drive/My Drive/yolo_custom_model_training/custom_data/16.txt  \n",
            " extracting: /content/drive/My Drive/yolo_custom_model_training/custom_data/17.jpg  \n",
            "  inflating: /content/drive/My Drive/yolo_custom_model_training/custom_data/17.txt  \n",
            "  inflating: /content/drive/My Drive/yolo_custom_model_training/custom_data/18.jpg  \n",
            "  inflating: /content/drive/My Drive/yolo_custom_model_training/custom_data/18.txt  \n",
            "  inflating: /content/drive/My Drive/yolo_custom_model_training/custom_data/19.jpg  \n",
            "  inflating: /content/drive/My Drive/yolo_custom_model_training/custom_data/19.txt  \n",
            "  inflating: /content/drive/My Drive/yolo_custom_model_training/custom_data/2.jpg  \n",
            "  inflating: /content/drive/My Drive/yolo_custom_model_training/custom_data/2.txt  \n",
            "  inflating: /content/drive/My Drive/yolo_custom_model_training/custom_data/20.jpg  \n",
            "  inflating: /content/drive/My Drive/yolo_custom_model_training/custom_data/20.txt  \n",
            "  inflating: /content/drive/My Drive/yolo_custom_model_training/custom_data/21.jpg  \n",
            "  inflating: /content/drive/My Drive/yolo_custom_model_training/custom_data/21.txt  \n",
            "  inflating: /content/drive/My Drive/yolo_custom_model_training/custom_data/22.jpg  \n",
            "  inflating: /content/drive/My Drive/yolo_custom_model_training/custom_data/22.txt  \n",
            "  inflating: /content/drive/My Drive/yolo_custom_model_training/custom_data/23.jpg  \n",
            "  inflating: /content/drive/My Drive/yolo_custom_model_training/custom_data/23.txt  \n",
            "  inflating: /content/drive/My Drive/yolo_custom_model_training/custom_data/24.jpg  \n",
            "  inflating: /content/drive/My Drive/yolo_custom_model_training/custom_data/24.txt  \n",
            "  inflating: /content/drive/My Drive/yolo_custom_model_training/custom_data/25.jpg  \n",
            "  inflating: /content/drive/My Drive/yolo_custom_model_training/custom_data/25.txt  \n",
            "  inflating: /content/drive/My Drive/yolo_custom_model_training/custom_data/26.jpg  \n",
            "  inflating: /content/drive/My Drive/yolo_custom_model_training/custom_data/26.txt  \n",
            " extracting: /content/drive/My Drive/yolo_custom_model_training/custom_data/27.png  \n",
            "  inflating: /content/drive/My Drive/yolo_custom_model_training/custom_data/27.txt  \n",
            "  inflating: /content/drive/My Drive/yolo_custom_model_training/custom_data/28.jpg  \n",
            "  inflating: /content/drive/My Drive/yolo_custom_model_training/custom_data/28.txt  \n",
            "  inflating: /content/drive/My Drive/yolo_custom_model_training/custom_data/29.jpg  \n",
            "  inflating: /content/drive/My Drive/yolo_custom_model_training/custom_data/29.txt  \n",
            "  inflating: /content/drive/My Drive/yolo_custom_model_training/custom_data/3.jpg  \n",
            "  inflating: /content/drive/My Drive/yolo_custom_model_training/custom_data/3.txt  \n",
            "  inflating: /content/drive/My Drive/yolo_custom_model_training/custom_data/30.jpg  \n",
            "  inflating: /content/drive/My Drive/yolo_custom_model_training/custom_data/30.txt  \n",
            "  inflating: /content/drive/My Drive/yolo_custom_model_training/custom_data/31.jpg  \n",
            "  inflating: /content/drive/My Drive/yolo_custom_model_training/custom_data/31.txt  \n",
            "  inflating: /content/drive/My Drive/yolo_custom_model_training/custom_data/32.jpg  \n",
            "  inflating: /content/drive/My Drive/yolo_custom_model_training/custom_data/33.jpg  \n",
            "  inflating: /content/drive/My Drive/yolo_custom_model_training/custom_data/33.txt  \n",
            "  inflating: /content/drive/My Drive/yolo_custom_model_training/custom_data/34.jpg  \n",
            "  inflating: /content/drive/My Drive/yolo_custom_model_training/custom_data/34.txt  \n",
            "  inflating: /content/drive/My Drive/yolo_custom_model_training/custom_data/35.jpg  \n",
            "  inflating: /content/drive/My Drive/yolo_custom_model_training/custom_data/35.txt  \n",
            "  inflating: /content/drive/My Drive/yolo_custom_model_training/custom_data/36.jpg  \n",
            "  inflating: /content/drive/My Drive/yolo_custom_model_training/custom_data/36.txt  \n",
            "  inflating: /content/drive/My Drive/yolo_custom_model_training/custom_data/37.jpg  \n",
            "  inflating: /content/drive/My Drive/yolo_custom_model_training/custom_data/37.txt  \n",
            "  inflating: /content/drive/My Drive/yolo_custom_model_training/custom_data/38.jpg  \n",
            "  inflating: /content/drive/My Drive/yolo_custom_model_training/custom_data/38.txt  \n",
            "  inflating: /content/drive/My Drive/yolo_custom_model_training/custom_data/39.jpg  \n",
            "  inflating: /content/drive/My Drive/yolo_custom_model_training/custom_data/39.txt  \n",
            "  inflating: /content/drive/My Drive/yolo_custom_model_training/custom_data/4.jpg  \n",
            "  inflating: /content/drive/My Drive/yolo_custom_model_training/custom_data/4.txt  \n",
            "  inflating: /content/drive/My Drive/yolo_custom_model_training/custom_data/40.jpg  \n",
            "  inflating: /content/drive/My Drive/yolo_custom_model_training/custom_data/40.txt  \n",
            "  inflating: /content/drive/My Drive/yolo_custom_model_training/custom_data/41.jpg  \n",
            "  inflating: /content/drive/My Drive/yolo_custom_model_training/custom_data/41.txt  \n",
            "  inflating: /content/drive/My Drive/yolo_custom_model_training/custom_data/42.jpg  \n",
            "  inflating: /content/drive/My Drive/yolo_custom_model_training/custom_data/42.txt  \n",
            "  inflating: /content/drive/My Drive/yolo_custom_model_training/custom_data/43.jpg  \n",
            "  inflating: /content/drive/My Drive/yolo_custom_model_training/custom_data/43.txt  \n",
            "  inflating: /content/drive/My Drive/yolo_custom_model_training/custom_data/44.jpg  \n",
            "  inflating: /content/drive/My Drive/yolo_custom_model_training/custom_data/44.txt  \n",
            "  inflating: /content/drive/My Drive/yolo_custom_model_training/custom_data/45.jpg  \n",
            "  inflating: /content/drive/My Drive/yolo_custom_model_training/custom_data/45.txt  \n",
            "  inflating: /content/drive/My Drive/yolo_custom_model_training/custom_data/46.jpg  \n",
            "  inflating: /content/drive/My Drive/yolo_custom_model_training/custom_data/46.txt  \n",
            "  inflating: /content/drive/My Drive/yolo_custom_model_training/custom_data/47.jpg  \n",
            "  inflating: /content/drive/My Drive/yolo_custom_model_training/custom_data/47.txt  \n",
            "  inflating: /content/drive/My Drive/yolo_custom_model_training/custom_data/48.jpg  \n",
            "  inflating: /content/drive/My Drive/yolo_custom_model_training/custom_data/48.txt  \n",
            "  inflating: /content/drive/My Drive/yolo_custom_model_training/custom_data/49.jpg  \n",
            "  inflating: /content/drive/My Drive/yolo_custom_model_training/custom_data/49.txt  \n",
            "  inflating: /content/drive/My Drive/yolo_custom_model_training/custom_data/5.jpg  \n",
            "  inflating: /content/drive/My Drive/yolo_custom_model_training/custom_data/5.txt  \n",
            "  inflating: /content/drive/My Drive/yolo_custom_model_training/custom_data/50.jpg  \n",
            "  inflating: /content/drive/My Drive/yolo_custom_model_training/custom_data/50.txt  \n",
            "  inflating: /content/drive/My Drive/yolo_custom_model_training/custom_data/51.jpg  \n",
            "  inflating: /content/drive/My Drive/yolo_custom_model_training/custom_data/51.txt  \n",
            "  inflating: /content/drive/My Drive/yolo_custom_model_training/custom_data/52.jpg  \n",
            "  inflating: /content/drive/My Drive/yolo_custom_model_training/custom_data/52.txt  \n",
            "  inflating: /content/drive/My Drive/yolo_custom_model_training/custom_data/53.jpg  \n",
            "  inflating: /content/drive/My Drive/yolo_custom_model_training/custom_data/53.txt  \n",
            "  inflating: /content/drive/My Drive/yolo_custom_model_training/custom_data/54.jpg  \n",
            "  inflating: /content/drive/My Drive/yolo_custom_model_training/custom_data/54.txt  \n",
            "  inflating: /content/drive/My Drive/yolo_custom_model_training/custom_data/55.jpg  \n",
            "  inflating: /content/drive/My Drive/yolo_custom_model_training/custom_data/55.txt  \n",
            "  inflating: /content/drive/My Drive/yolo_custom_model_training/custom_data/56.jpg  \n",
            "  inflating: /content/drive/My Drive/yolo_custom_model_training/custom_data/56.txt  \n",
            "  inflating: /content/drive/My Drive/yolo_custom_model_training/custom_data/57.jpg  \n",
            "  inflating: /content/drive/My Drive/yolo_custom_model_training/custom_data/57.txt  \n",
            "  inflating: /content/drive/My Drive/yolo_custom_model_training/custom_data/58.jpg  \n",
            "  inflating: /content/drive/My Drive/yolo_custom_model_training/custom_data/58.txt  \n",
            "  inflating: /content/drive/My Drive/yolo_custom_model_training/custom_data/59.jpg  \n",
            "  inflating: /content/drive/My Drive/yolo_custom_model_training/custom_data/59.txt  \n",
            "  inflating: /content/drive/My Drive/yolo_custom_model_training/custom_data/6.jpg  \n",
            "  inflating: /content/drive/My Drive/yolo_custom_model_training/custom_data/6.txt  \n",
            "  inflating: /content/drive/My Drive/yolo_custom_model_training/custom_data/60.jpg  \n",
            "  inflating: /content/drive/My Drive/yolo_custom_model_training/custom_data/60.txt  \n",
            "  inflating: /content/drive/My Drive/yolo_custom_model_training/custom_data/61.jpg  \n",
            "  inflating: /content/drive/My Drive/yolo_custom_model_training/custom_data/61.txt  \n",
            "  inflating: /content/drive/My Drive/yolo_custom_model_training/custom_data/62.jpg  \n",
            "  inflating: /content/drive/My Drive/yolo_custom_model_training/custom_data/62.txt  \n",
            "  inflating: /content/drive/My Drive/yolo_custom_model_training/custom_data/63.jpg  \n",
            "  inflating: /content/drive/My Drive/yolo_custom_model_training/custom_data/63.txt  \n",
            "  inflating: /content/drive/My Drive/yolo_custom_model_training/custom_data/64.jpg  \n",
            "  inflating: /content/drive/My Drive/yolo_custom_model_training/custom_data/64.txt  \n",
            "  inflating: /content/drive/My Drive/yolo_custom_model_training/custom_data/65.jpg  \n",
            "  inflating: /content/drive/My Drive/yolo_custom_model_training/custom_data/65.txt  \n",
            "  inflating: /content/drive/My Drive/yolo_custom_model_training/custom_data/66.jpg  \n",
            "  inflating: /content/drive/My Drive/yolo_custom_model_training/custom_data/66.txt  \n",
            "  inflating: /content/drive/My Drive/yolo_custom_model_training/custom_data/7.jpg  \n",
            "  inflating: /content/drive/My Drive/yolo_custom_model_training/custom_data/7.txt  \n",
            "  inflating: /content/drive/My Drive/yolo_custom_model_training/custom_data/8.jpg  \n",
            "  inflating: /content/drive/My Drive/yolo_custom_model_training/custom_data/8.txt  \n",
            "  inflating: /content/drive/My Drive/yolo_custom_model_training/custom_data/9.jpg  \n",
            "  inflating: /content/drive/My Drive/yolo_custom_model_training/custom_data/9.txt  \n",
            "  inflating: /content/drive/My Drive/yolo_custom_model_training/custom_data/cat.0.jpg  \n",
            "  inflating: /content/drive/My Drive/yolo_custom_model_training/custom_data/cat.0.txt  \n",
            "  inflating: /content/drive/My Drive/yolo_custom_model_training/custom_data/cat.1.jpg  \n",
            "  inflating: /content/drive/My Drive/yolo_custom_model_training/custom_data/cat.1.txt  \n",
            "  inflating: /content/drive/My Drive/yolo_custom_model_training/custom_data/cat.10.jpg  \n",
            "  inflating: /content/drive/My Drive/yolo_custom_model_training/custom_data/cat.10.txt  \n",
            "  inflating: /content/drive/My Drive/yolo_custom_model_training/custom_data/cat.11.jpg  \n",
            "  inflating: /content/drive/My Drive/yolo_custom_model_training/custom_data/cat.11.txt  \n",
            "  inflating: /content/drive/My Drive/yolo_custom_model_training/custom_data/cat.12.jpg  \n",
            "  inflating: /content/drive/My Drive/yolo_custom_model_training/custom_data/cat.12.txt  \n",
            "  inflating: /content/drive/My Drive/yolo_custom_model_training/custom_data/cat.13.jpg  \n",
            "  inflating: /content/drive/My Drive/yolo_custom_model_training/custom_data/cat.13.txt  \n",
            "  inflating: /content/drive/My Drive/yolo_custom_model_training/custom_data/cat.14.jpg  \n",
            "  inflating: /content/drive/My Drive/yolo_custom_model_training/custom_data/cat.14.txt  \n",
            "  inflating: /content/drive/My Drive/yolo_custom_model_training/custom_data/cat.15.jpg  \n",
            "  inflating: /content/drive/My Drive/yolo_custom_model_training/custom_data/cat.15.txt  \n",
            "  inflating: /content/drive/My Drive/yolo_custom_model_training/custom_data/cat.16.jpg  \n",
            "  inflating: /content/drive/My Drive/yolo_custom_model_training/custom_data/cat.16.txt  \n",
            "  inflating: /content/drive/My Drive/yolo_custom_model_training/custom_data/cat.17.jpg  \n",
            "  inflating: /content/drive/My Drive/yolo_custom_model_training/custom_data/cat.17.txt  \n",
            "  inflating: /content/drive/My Drive/yolo_custom_model_training/custom_data/cat.18.jpg  \n",
            "  inflating: /content/drive/My Drive/yolo_custom_model_training/custom_data/cat.18.txt  \n",
            "  inflating: /content/drive/My Drive/yolo_custom_model_training/custom_data/cat.19.jpg  \n",
            "  inflating: /content/drive/My Drive/yolo_custom_model_training/custom_data/cat.2.jpg  \n",
            "  inflating: /content/drive/My Drive/yolo_custom_model_training/custom_data/cat.2.txt  \n",
            "  inflating: /content/drive/My Drive/yolo_custom_model_training/custom_data/cat.20.jpg  \n",
            "  inflating: /content/drive/My Drive/yolo_custom_model_training/custom_data/cat.20.txt  \n",
            "  inflating: /content/drive/My Drive/yolo_custom_model_training/custom_data/cat.21.jpg  \n",
            "  inflating: /content/drive/My Drive/yolo_custom_model_training/custom_data/cat.21.txt  \n",
            "  inflating: /content/drive/My Drive/yolo_custom_model_training/custom_data/cat.22.jpg  \n",
            "  inflating: /content/drive/My Drive/yolo_custom_model_training/custom_data/cat.22.txt  \n",
            "  inflating: /content/drive/My Drive/yolo_custom_model_training/custom_data/cat.23.jpg  \n",
            "  inflating: /content/drive/My Drive/yolo_custom_model_training/custom_data/cat.23.txt  \n",
            "  inflating: /content/drive/My Drive/yolo_custom_model_training/custom_data/cat.29.jpg  \n",
            "  inflating: /content/drive/My Drive/yolo_custom_model_training/custom_data/cat.29.txt  \n",
            "  inflating: /content/drive/My Drive/yolo_custom_model_training/custom_data/cat.3.jpg  \n",
            "  inflating: /content/drive/My Drive/yolo_custom_model_training/custom_data/cat.3.txt  \n",
            "  inflating: /content/drive/My Drive/yolo_custom_model_training/custom_data/cat.4.jpg  \n",
            "  inflating: /content/drive/My Drive/yolo_custom_model_training/custom_data/cat.4.txt  \n",
            "  inflating: /content/drive/My Drive/yolo_custom_model_training/custom_data/cat.5.jpg  \n",
            "  inflating: /content/drive/My Drive/yolo_custom_model_training/custom_data/cat.5.txt  \n",
            "  inflating: /content/drive/My Drive/yolo_custom_model_training/custom_data/cat.7.jpg  \n",
            "  inflating: /content/drive/My Drive/yolo_custom_model_training/custom_data/cat.7.txt  \n",
            "  inflating: /content/drive/My Drive/yolo_custom_model_training/custom_data/cat.8.jpg  \n",
            "  inflating: /content/drive/My Drive/yolo_custom_model_training/custom_data/cat.8.txt  \n",
            "  inflating: /content/drive/My Drive/yolo_custom_model_training/custom_data/cat.9.jpg  \n",
            "  inflating: /content/drive/My Drive/yolo_custom_model_training/custom_data/cat.9.txt  \n",
            " extracting: /content/drive/My Drive/yolo_custom_model_training/custom_data/classes.txt  \n"
          ],
          "name": "stdout"
        }
      ]
    },
    {
      "cell_type": "code",
      "metadata": {
        "id": "xIJ-6HXM51iK",
        "outputId": "8c8b63f6-59db-43ed-aafd-f78c27314d73",
        "colab": {
          "base_uri": "https://localhost:8080/"
        }
      },
      "source": [
        "!git clone 'https://github.com/pjreddie/darknet.git' '/content/drive/My Drive/yolo_custom_model_training/darknet'"
      ],
      "execution_count": null,
      "outputs": [
        {
          "output_type": "stream",
          "text": [
            "Cloning into '/content/drive/My Drive/yolo_custom_model_training/darknet'...\n",
            "remote: Enumerating objects: 5913, done.\u001b[K\n",
            "remote: Total 5913 (delta 0), reused 0 (delta 0), pack-reused 5913\u001b[K\n",
            "Receiving objects: 100% (5913/5913), 6.34 MiB | 9.20 MiB/s, done.\n",
            "Resolving deltas: 100% (3915/3915), done.\n",
            "Checking out files: 100% (979/979), done.\n"
          ],
          "name": "stdout"
        }
      ]
    },
    {
      "cell_type": "code",
      "metadata": {
        "id": "0xQz5ahu6rUH",
        "outputId": "dbaf221d-8305-4262-9df7-1387aebb572b",
        "colab": {
          "base_uri": "https://localhost:8080/"
        }
      },
      "source": [
        "%cd /content/drive/My Drive/yolo_custom_model_training/darknet"
      ],
      "execution_count": null,
      "outputs": [
        {
          "output_type": "stream",
          "text": [
            "/content/drive/My Drive/yolo_custom_model_training/darknet\n"
          ],
          "name": "stdout"
        }
      ]
    },
    {
      "cell_type": "code",
      "metadata": {
        "id": "VnxG2E136wZg",
        "outputId": "8eededef-5450-4960-be20-62c540a5b5c6",
        "colab": {
          "base_uri": "https://localhost:8080/"
        }
      },
      "source": [
        "!make"
      ],
      "execution_count": null,
      "outputs": [
        {
          "output_type": "stream",
          "text": [
            "mkdir -p obj\n",
            "mkdir -p backup\n",
            "mkdir -p results\n",
            "gcc -Iinclude/ -Isrc/ -Wall -Wno-unused-result -Wno-unknown-pragmas -Wfatal-errors -fPIC -Ofast -c ./src/gemm.c -o obj/gemm.o\n",
            "gcc -Iinclude/ -Isrc/ -Wall -Wno-unused-result -Wno-unknown-pragmas -Wfatal-errors -fPIC -Ofast -c ./src/utils.c -o obj/utils.o\n",
            "gcc -Iinclude/ -Isrc/ -Wall -Wno-unused-result -Wno-unknown-pragmas -Wfatal-errors -fPIC -Ofast -c ./src/cuda.c -o obj/cuda.o\n",
            "gcc -Iinclude/ -Isrc/ -Wall -Wno-unused-result -Wno-unknown-pragmas -Wfatal-errors -fPIC -Ofast -c ./src/deconvolutional_layer.c -o obj/deconvolutional_layer.o\n",
            "gcc -Iinclude/ -Isrc/ -Wall -Wno-unused-result -Wno-unknown-pragmas -Wfatal-errors -fPIC -Ofast -c ./src/convolutional_layer.c -o obj/convolutional_layer.o\n",
            "gcc -Iinclude/ -Isrc/ -Wall -Wno-unused-result -Wno-unknown-pragmas -Wfatal-errors -fPIC -Ofast -c ./src/list.c -o obj/list.o\n",
            "gcc -Iinclude/ -Isrc/ -Wall -Wno-unused-result -Wno-unknown-pragmas -Wfatal-errors -fPIC -Ofast -c ./src/image.c -o obj/image.o\n",
            "gcc -Iinclude/ -Isrc/ -Wall -Wno-unused-result -Wno-unknown-pragmas -Wfatal-errors -fPIC -Ofast -c ./src/activations.c -o obj/activations.o\n",
            "gcc -Iinclude/ -Isrc/ -Wall -Wno-unused-result -Wno-unknown-pragmas -Wfatal-errors -fPIC -Ofast -c ./src/im2col.c -o obj/im2col.o\n",
            "gcc -Iinclude/ -Isrc/ -Wall -Wno-unused-result -Wno-unknown-pragmas -Wfatal-errors -fPIC -Ofast -c ./src/col2im.c -o obj/col2im.o\n",
            "gcc -Iinclude/ -Isrc/ -Wall -Wno-unused-result -Wno-unknown-pragmas -Wfatal-errors -fPIC -Ofast -c ./src/blas.c -o obj/blas.o\n",
            "gcc -Iinclude/ -Isrc/ -Wall -Wno-unused-result -Wno-unknown-pragmas -Wfatal-errors -fPIC -Ofast -c ./src/crop_layer.c -o obj/crop_layer.o\n",
            "gcc -Iinclude/ -Isrc/ -Wall -Wno-unused-result -Wno-unknown-pragmas -Wfatal-errors -fPIC -Ofast -c ./src/dropout_layer.c -o obj/dropout_layer.o\n",
            "gcc -Iinclude/ -Isrc/ -Wall -Wno-unused-result -Wno-unknown-pragmas -Wfatal-errors -fPIC -Ofast -c ./src/maxpool_layer.c -o obj/maxpool_layer.o\n",
            "gcc -Iinclude/ -Isrc/ -Wall -Wno-unused-result -Wno-unknown-pragmas -Wfatal-errors -fPIC -Ofast -c ./src/softmax_layer.c -o obj/softmax_layer.o\n",
            "gcc -Iinclude/ -Isrc/ -Wall -Wno-unused-result -Wno-unknown-pragmas -Wfatal-errors -fPIC -Ofast -c ./src/data.c -o obj/data.o\n",
            "gcc -Iinclude/ -Isrc/ -Wall -Wno-unused-result -Wno-unknown-pragmas -Wfatal-errors -fPIC -Ofast -c ./src/matrix.c -o obj/matrix.o\n",
            "gcc -Iinclude/ -Isrc/ -Wall -Wno-unused-result -Wno-unknown-pragmas -Wfatal-errors -fPIC -Ofast -c ./src/network.c -o obj/network.o\n",
            "gcc -Iinclude/ -Isrc/ -Wall -Wno-unused-result -Wno-unknown-pragmas -Wfatal-errors -fPIC -Ofast -c ./src/connected_layer.c -o obj/connected_layer.o\n",
            "gcc -Iinclude/ -Isrc/ -Wall -Wno-unused-result -Wno-unknown-pragmas -Wfatal-errors -fPIC -Ofast -c ./src/cost_layer.c -o obj/cost_layer.o\n",
            "gcc -Iinclude/ -Isrc/ -Wall -Wno-unused-result -Wno-unknown-pragmas -Wfatal-errors -fPIC -Ofast -c ./src/parser.c -o obj/parser.o\n",
            "gcc -Iinclude/ -Isrc/ -Wall -Wno-unused-result -Wno-unknown-pragmas -Wfatal-errors -fPIC -Ofast -c ./src/option_list.c -o obj/option_list.o\n",
            "gcc -Iinclude/ -Isrc/ -Wall -Wno-unused-result -Wno-unknown-pragmas -Wfatal-errors -fPIC -Ofast -c ./src/detection_layer.c -o obj/detection_layer.o\n",
            "gcc -Iinclude/ -Isrc/ -Wall -Wno-unused-result -Wno-unknown-pragmas -Wfatal-errors -fPIC -Ofast -c ./src/route_layer.c -o obj/route_layer.o\n",
            "gcc -Iinclude/ -Isrc/ -Wall -Wno-unused-result -Wno-unknown-pragmas -Wfatal-errors -fPIC -Ofast -c ./src/upsample_layer.c -o obj/upsample_layer.o\n",
            "gcc -Iinclude/ -Isrc/ -Wall -Wno-unused-result -Wno-unknown-pragmas -Wfatal-errors -fPIC -Ofast -c ./src/box.c -o obj/box.o\n",
            "gcc -Iinclude/ -Isrc/ -Wall -Wno-unused-result -Wno-unknown-pragmas -Wfatal-errors -fPIC -Ofast -c ./src/normalization_layer.c -o obj/normalization_layer.o\n",
            "gcc -Iinclude/ -Isrc/ -Wall -Wno-unused-result -Wno-unknown-pragmas -Wfatal-errors -fPIC -Ofast -c ./src/avgpool_layer.c -o obj/avgpool_layer.o\n",
            "gcc -Iinclude/ -Isrc/ -Wall -Wno-unused-result -Wno-unknown-pragmas -Wfatal-errors -fPIC -Ofast -c ./src/layer.c -o obj/layer.o\n",
            "gcc -Iinclude/ -Isrc/ -Wall -Wno-unused-result -Wno-unknown-pragmas -Wfatal-errors -fPIC -Ofast -c ./src/local_layer.c -o obj/local_layer.o\n",
            "gcc -Iinclude/ -Isrc/ -Wall -Wno-unused-result -Wno-unknown-pragmas -Wfatal-errors -fPIC -Ofast -c ./src/shortcut_layer.c -o obj/shortcut_layer.o\n",
            "gcc -Iinclude/ -Isrc/ -Wall -Wno-unused-result -Wno-unknown-pragmas -Wfatal-errors -fPIC -Ofast -c ./src/logistic_layer.c -o obj/logistic_layer.o\n",
            "gcc -Iinclude/ -Isrc/ -Wall -Wno-unused-result -Wno-unknown-pragmas -Wfatal-errors -fPIC -Ofast -c ./src/activation_layer.c -o obj/activation_layer.o\n",
            "gcc -Iinclude/ -Isrc/ -Wall -Wno-unused-result -Wno-unknown-pragmas -Wfatal-errors -fPIC -Ofast -c ./src/rnn_layer.c -o obj/rnn_layer.o\n",
            "gcc -Iinclude/ -Isrc/ -Wall -Wno-unused-result -Wno-unknown-pragmas -Wfatal-errors -fPIC -Ofast -c ./src/gru_layer.c -o obj/gru_layer.o\n",
            "gcc -Iinclude/ -Isrc/ -Wall -Wno-unused-result -Wno-unknown-pragmas -Wfatal-errors -fPIC -Ofast -c ./src/crnn_layer.c -o obj/crnn_layer.o\n",
            "gcc -Iinclude/ -Isrc/ -Wall -Wno-unused-result -Wno-unknown-pragmas -Wfatal-errors -fPIC -Ofast -c ./src/demo.c -o obj/demo.o\n",
            "gcc -Iinclude/ -Isrc/ -Wall -Wno-unused-result -Wno-unknown-pragmas -Wfatal-errors -fPIC -Ofast -c ./src/batchnorm_layer.c -o obj/batchnorm_layer.o\n",
            "gcc -Iinclude/ -Isrc/ -Wall -Wno-unused-result -Wno-unknown-pragmas -Wfatal-errors -fPIC -Ofast -c ./src/region_layer.c -o obj/region_layer.o\n",
            "gcc -Iinclude/ -Isrc/ -Wall -Wno-unused-result -Wno-unknown-pragmas -Wfatal-errors -fPIC -Ofast -c ./src/reorg_layer.c -o obj/reorg_layer.o\n",
            "gcc -Iinclude/ -Isrc/ -Wall -Wno-unused-result -Wno-unknown-pragmas -Wfatal-errors -fPIC -Ofast -c ./src/tree.c -o obj/tree.o\n",
            "gcc -Iinclude/ -Isrc/ -Wall -Wno-unused-result -Wno-unknown-pragmas -Wfatal-errors -fPIC -Ofast -c ./src/lstm_layer.c -o obj/lstm_layer.o\n",
            "gcc -Iinclude/ -Isrc/ -Wall -Wno-unused-result -Wno-unknown-pragmas -Wfatal-errors -fPIC -Ofast -c ./src/l2norm_layer.c -o obj/l2norm_layer.o\n",
            "gcc -Iinclude/ -Isrc/ -Wall -Wno-unused-result -Wno-unknown-pragmas -Wfatal-errors -fPIC -Ofast -c ./src/yolo_layer.c -o obj/yolo_layer.o\n",
            "gcc -Iinclude/ -Isrc/ -Wall -Wno-unused-result -Wno-unknown-pragmas -Wfatal-errors -fPIC -Ofast -c ./src/iseg_layer.c -o obj/iseg_layer.o\n",
            "g++ -Iinclude/ -Isrc/ -Wall -Wno-unused-result -Wno-unknown-pragmas -Wfatal-errors -fPIC -Ofast -c ./src/image_opencv.cpp -o obj/image_opencv.o\n",
            "gcc -Wall -Wno-unused-result -Wno-unknown-pragmas -Wfatal-errors -fPIC -Ofast -shared obj/gemm.o obj/utils.o obj/cuda.o obj/deconvolutional_layer.o obj/convolutional_layer.o obj/list.o obj/image.o obj/activations.o obj/im2col.o obj/col2im.o obj/blas.o obj/crop_layer.o obj/dropout_layer.o obj/maxpool_layer.o obj/softmax_layer.o obj/data.o obj/matrix.o obj/network.o obj/connected_layer.o obj/cost_layer.o obj/parser.o obj/option_list.o obj/detection_layer.o obj/route_layer.o obj/upsample_layer.o obj/box.o obj/normalization_layer.o obj/avgpool_layer.o obj/layer.o obj/local_layer.o obj/shortcut_layer.o obj/logistic_layer.o obj/activation_layer.o obj/rnn_layer.o obj/gru_layer.o obj/crnn_layer.o obj/demo.o obj/batchnorm_layer.o obj/region_layer.o obj/reorg_layer.o obj/tree.o obj/lstm_layer.o obj/l2norm_layer.o obj/yolo_layer.o obj/iseg_layer.o obj/image_opencv.o -o libdarknet.so -lm -pthread \n",
            "ar rcs libdarknet.a obj/gemm.o obj/utils.o obj/cuda.o obj/deconvolutional_layer.o obj/convolutional_layer.o obj/list.o obj/image.o obj/activations.o obj/im2col.o obj/col2im.o obj/blas.o obj/crop_layer.o obj/dropout_layer.o obj/maxpool_layer.o obj/softmax_layer.o obj/data.o obj/matrix.o obj/network.o obj/connected_layer.o obj/cost_layer.o obj/parser.o obj/option_list.o obj/detection_layer.o obj/route_layer.o obj/upsample_layer.o obj/box.o obj/normalization_layer.o obj/avgpool_layer.o obj/layer.o obj/local_layer.o obj/shortcut_layer.o obj/logistic_layer.o obj/activation_layer.o obj/rnn_layer.o obj/gru_layer.o obj/crnn_layer.o obj/demo.o obj/batchnorm_layer.o obj/region_layer.o obj/reorg_layer.o obj/tree.o obj/lstm_layer.o obj/l2norm_layer.o obj/yolo_layer.o obj/iseg_layer.o obj/image_opencv.o\n",
            "gcc -Iinclude/ -Isrc/ -Wall -Wno-unused-result -Wno-unknown-pragmas -Wfatal-errors -fPIC -Ofast -c ./examples/captcha.c -o obj/captcha.o\n",
            "gcc -Iinclude/ -Isrc/ -Wall -Wno-unused-result -Wno-unknown-pragmas -Wfatal-errors -fPIC -Ofast -c ./examples/lsd.c -o obj/lsd.o\n",
            "gcc -Iinclude/ -Isrc/ -Wall -Wno-unused-result -Wno-unknown-pragmas -Wfatal-errors -fPIC -Ofast -c ./examples/super.c -o obj/super.o\n",
            "gcc -Iinclude/ -Isrc/ -Wall -Wno-unused-result -Wno-unknown-pragmas -Wfatal-errors -fPIC -Ofast -c ./examples/art.c -o obj/art.o\n",
            "gcc -Iinclude/ -Isrc/ -Wall -Wno-unused-result -Wno-unknown-pragmas -Wfatal-errors -fPIC -Ofast -c ./examples/tag.c -o obj/tag.o\n",
            "gcc -Iinclude/ -Isrc/ -Wall -Wno-unused-result -Wno-unknown-pragmas -Wfatal-errors -fPIC -Ofast -c ./examples/cifar.c -o obj/cifar.o\n",
            "gcc -Iinclude/ -Isrc/ -Wall -Wno-unused-result -Wno-unknown-pragmas -Wfatal-errors -fPIC -Ofast -c ./examples/go.c -o obj/go.o\n",
            "gcc -Iinclude/ -Isrc/ -Wall -Wno-unused-result -Wno-unknown-pragmas -Wfatal-errors -fPIC -Ofast -c ./examples/rnn.c -o obj/rnn.o\n",
            "gcc -Iinclude/ -Isrc/ -Wall -Wno-unused-result -Wno-unknown-pragmas -Wfatal-errors -fPIC -Ofast -c ./examples/segmenter.c -o obj/segmenter.o\n",
            "gcc -Iinclude/ -Isrc/ -Wall -Wno-unused-result -Wno-unknown-pragmas -Wfatal-errors -fPIC -Ofast -c ./examples/regressor.c -o obj/regressor.o\n",
            "gcc -Iinclude/ -Isrc/ -Wall -Wno-unused-result -Wno-unknown-pragmas -Wfatal-errors -fPIC -Ofast -c ./examples/classifier.c -o obj/classifier.o\n",
            "gcc -Iinclude/ -Isrc/ -Wall -Wno-unused-result -Wno-unknown-pragmas -Wfatal-errors -fPIC -Ofast -c ./examples/coco.c -o obj/coco.o\n",
            "gcc -Iinclude/ -Isrc/ -Wall -Wno-unused-result -Wno-unknown-pragmas -Wfatal-errors -fPIC -Ofast -c ./examples/yolo.c -o obj/yolo.o\n",
            "gcc -Iinclude/ -Isrc/ -Wall -Wno-unused-result -Wno-unknown-pragmas -Wfatal-errors -fPIC -Ofast -c ./examples/detector.c -o obj/detector.o\n",
            "gcc -Iinclude/ -Isrc/ -Wall -Wno-unused-result -Wno-unknown-pragmas -Wfatal-errors -fPIC -Ofast -c ./examples/nightmare.c -o obj/nightmare.o\n",
            "gcc -Iinclude/ -Isrc/ -Wall -Wno-unused-result -Wno-unknown-pragmas -Wfatal-errors -fPIC -Ofast -c ./examples/instance-segmenter.c -o obj/instance-segmenter.o\n",
            "gcc -Iinclude/ -Isrc/ -Wall -Wno-unused-result -Wno-unknown-pragmas -Wfatal-errors -fPIC -Ofast -c ./examples/darknet.c -o obj/darknet.o\n",
            "gcc -Iinclude/ -Isrc/ -Wall -Wno-unused-result -Wno-unknown-pragmas -Wfatal-errors -fPIC -Ofast obj/captcha.o obj/lsd.o obj/super.o obj/art.o obj/tag.o obj/cifar.o obj/go.o obj/rnn.o obj/segmenter.o obj/regressor.o obj/classifier.o obj/coco.o obj/yolo.o obj/detector.o obj/nightmare.o obj/instance-segmenter.o obj/darknet.o libdarknet.a -o darknet -lm -pthread  libdarknet.a\n"
          ],
          "name": "stdout"
        }
      ]
    },
    {
      "cell_type": "code",
      "metadata": {
        "id": "sBxOYybl7jd-",
        "outputId": "0e6746c5-b128-42f7-ab60-5cb1fdf90044",
        "colab": {
          "base_uri": "https://localhost:8080/"
        }
      },
      "source": [
        "%cd /content/drive/My Drive/yolo_custom_model_training"
      ],
      "execution_count": null,
      "outputs": [
        {
          "output_type": "stream",
          "text": [
            "/content/drive/My Drive/yolo_custom_model_training\n"
          ],
          "name": "stdout"
        }
      ]
    },
    {
      "cell_type": "code",
      "metadata": {
        "id": "F8Tqac1J89kW"
      },
      "source": [
        "! python custom_data/creating-files-data-and-name.py"
      ],
      "execution_count": null,
      "outputs": []
    },
    {
      "cell_type": "code",
      "metadata": {
        "id": "V_Z3u75G9Ant"
      },
      "source": [
        "! python custom_data/creating-train-and-test-txt-files.py"
      ],
      "execution_count": null,
      "outputs": []
    },
    {
      "cell_type": "code",
      "metadata": {
        "id": "u2B8iX80_42F",
        "outputId": "0814323d-0b42-45e5-9fbf-10f006fd29bf",
        "colab": {
          "base_uri": "https://localhost:8080/"
        }
      },
      "source": [
        "!darknet/darknet detector train custom_data/labelled_data.data darknet/cfg/yolov3_custom.cfg custom_weight/darknet53.conv.74 -dont_show\n"
      ],
      "execution_count": null,
      "outputs": [
        {
          "output_type": "stream",
          "text": [
            "yolov3_custom\n",
            "layer     filters    size              input                output\n",
            "    0 conv     32  3 x 3 / 1   608 x 608 x   3   ->   608 x 608 x  32  0.639 BFLOPs\n",
            "    1 conv     64  3 x 3 / 2   608 x 608 x  32   ->   304 x 304 x  64  3.407 BFLOPs\n",
            "    2 conv     32  1 x 1 / 1   304 x 304 x  64   ->   304 x 304 x  32  0.379 BFLOPs\n",
            "    3 conv     64  3 x 3 / 1   304 x 304 x  32   ->   304 x 304 x  64  3.407 BFLOPs\n",
            "    4 res    1                 304 x 304 x  64   ->   304 x 304 x  64\n",
            "    5 conv    128  3 x 3 / 2   304 x 304 x  64   ->   152 x 152 x 128  3.407 BFLOPs\n",
            "    6 conv     64  1 x 1 / 1   152 x 152 x 128   ->   152 x 152 x  64  0.379 BFLOPs\n",
            "    7 conv    128  3 x 3 / 1   152 x 152 x  64   ->   152 x 152 x 128  3.407 BFLOPs\n",
            "    8 res    5                 152 x 152 x 128   ->   152 x 152 x 128\n",
            "    9 conv     64  1 x 1 / 1   152 x 152 x 128   ->   152 x 152 x  64  0.379 BFLOPs\n",
            "   10 conv    128  3 x 3 / 1   152 x 152 x  64   ->   152 x 152 x 128  3.407 BFLOPs\n",
            "   11 res    8                 152 x 152 x 128   ->   152 x 152 x 128\n",
            "   12 conv    256  3 x 3 / 2   152 x 152 x 128   ->    76 x  76 x 256  3.407 BFLOPs\n",
            "   13 conv    128  1 x 1 / 1    76 x  76 x 256   ->    76 x  76 x 128  0.379 BFLOPs\n",
            "   14 conv    256  3 x 3 / 1    76 x  76 x 128   ->    76 x  76 x 256  3.407 BFLOPs\n",
            "   15 res   12                  76 x  76 x 256   ->    76 x  76 x 256\n",
            "   16 conv    128  1 x 1 / 1    76 x  76 x 256   ->    76 x  76 x 128  0.379 BFLOPs\n",
            "   17 conv    256  3 x 3 / 1    76 x  76 x 128   ->    76 x  76 x 256  3.407 BFLOPs\n",
            "   18 res   15                  76 x  76 x 256   ->    76 x  76 x 256\n",
            "   19 conv    128  1 x 1 / 1    76 x  76 x 256   ->    76 x  76 x 128  0.379 BFLOPs\n",
            "   20 conv    256  3 x 3 / 1    76 x  76 x 128   ->    76 x  76 x 256  3.407 BFLOPs\n",
            "   21 res   18                  76 x  76 x 256   ->    76 x  76 x 256\n",
            "   22 conv    128  1 x 1 / 1    76 x  76 x 256   ->    76 x  76 x 128  0.379 BFLOPs\n",
            "   23 conv    256  3 x 3 / 1    76 x  76 x 128   ->    76 x  76 x 256  3.407 BFLOPs\n",
            "   24 res   21                  76 x  76 x 256   ->    76 x  76 x 256\n",
            "   25 conv    128  1 x 1 / 1    76 x  76 x 256   ->    76 x  76 x 128  0.379 BFLOPs\n",
            "   26 conv    256  3 x 3 / 1    76 x  76 x 128   ->    76 x  76 x 256  3.407 BFLOPs\n",
            "   27 res   24                  76 x  76 x 256   ->    76 x  76 x 256\n",
            "   28 conv    128  1 x 1 / 1    76 x  76 x 256   ->    76 x  76 x 128  0.379 BFLOPs\n",
            "   29 conv    256  3 x 3 / 1    76 x  76 x 128   ->    76 x  76 x 256  3.407 BFLOPs\n",
            "   30 res   27                  76 x  76 x 256   ->    76 x  76 x 256\n",
            "   31 conv    128  1 x 1 / 1    76 x  76 x 256   ->    76 x  76 x 128  0.379 BFLOPs\n",
            "   32 conv    256  3 x 3 / 1    76 x  76 x 128   ->    76 x  76 x 256  3.407 BFLOPs\n",
            "   33 res   30                  76 x  76 x 256   ->    76 x  76 x 256\n",
            "   34 conv    128  1 x 1 / 1    76 x  76 x 256   ->    76 x  76 x 128  0.379 BFLOPs\n",
            "   35 conv    256  3 x 3 / 1    76 x  76 x 128   ->    76 x  76 x 256  3.407 BFLOPs\n",
            "   36 res   33                  76 x  76 x 256   ->    76 x  76 x 256\n",
            "   37 conv    512  3 x 3 / 2    76 x  76 x 256   ->    38 x  38 x 512  3.407 BFLOPs\n",
            "   38 conv    256  1 x 1 / 1    38 x  38 x 512   ->    38 x  38 x 256  0.379 BFLOPs\n",
            "   39 conv    512  3 x 3 / 1    38 x  38 x 256   ->    38 x  38 x 512  3.407 BFLOPs\n",
            "   40 res   37                  38 x  38 x 512   ->    38 x  38 x 512\n",
            "   41 conv    256  1 x 1 / 1    38 x  38 x 512   ->    38 x  38 x 256  0.379 BFLOPs\n",
            "   42 conv    512  3 x 3 / 1    38 x  38 x 256   ->    38 x  38 x 512  3.407 BFLOPs\n",
            "   43 res   40                  38 x  38 x 512   ->    38 x  38 x 512\n",
            "   44 conv    256  1 x 1 / 1    38 x  38 x 512   ->    38 x  38 x 256  0.379 BFLOPs\n",
            "   45 conv    512  3 x 3 / 1    38 x  38 x 256   ->    38 x  38 x 512  3.407 BFLOPs\n",
            "   46 res   43                  38 x  38 x 512   ->    38 x  38 x 512\n",
            "   47 conv    256  1 x 1 / 1    38 x  38 x 512   ->    38 x  38 x 256  0.379 BFLOPs\n",
            "   48 conv    512  3 x 3 / 1    38 x  38 x 256   ->    38 x  38 x 512  3.407 BFLOPs\n",
            "   49 res   46                  38 x  38 x 512   ->    38 x  38 x 512\n",
            "   50 conv    256  1 x 1 / 1    38 x  38 x 512   ->    38 x  38 x 256  0.379 BFLOPs\n",
            "   51 conv    512  3 x 3 / 1    38 x  38 x 256   ->    38 x  38 x 512  3.407 BFLOPs\n",
            "   52 res   49                  38 x  38 x 512   ->    38 x  38 x 512\n",
            "   53 conv    256  1 x 1 / 1    38 x  38 x 512   ->    38 x  38 x 256  0.379 BFLOPs\n",
            "   54 conv    512  3 x 3 / 1    38 x  38 x 256   ->    38 x  38 x 512  3.407 BFLOPs\n",
            "   55 res   52                  38 x  38 x 512   ->    38 x  38 x 512\n",
            "   56 conv    256  1 x 1 / 1    38 x  38 x 512   ->    38 x  38 x 256  0.379 BFLOPs\n",
            "   57 conv    512  3 x 3 / 1    38 x  38 x 256   ->    38 x  38 x 512  3.407 BFLOPs\n",
            "   58 res   55                  38 x  38 x 512   ->    38 x  38 x 512\n",
            "   59 conv    256  1 x 1 / 1    38 x  38 x 512   ->    38 x  38 x 256  0.379 BFLOPs\n",
            "   60 conv    512  3 x 3 / 1    38 x  38 x 256   ->    38 x  38 x 512  3.407 BFLOPs\n",
            "   61 res   58                  38 x  38 x 512   ->    38 x  38 x 512\n",
            "   62 conv   1024  3 x 3 / 2    38 x  38 x 512   ->    19 x  19 x1024  3.407 BFLOPs\n",
            "   63 conv    512  1 x 1 / 1    19 x  19 x1024   ->    19 x  19 x 512  0.379 BFLOPs\n",
            "   64 conv   1024  3 x 3 / 1    19 x  19 x 512   ->    19 x  19 x1024  3.407 BFLOPs\n",
            "   65 res   62                  19 x  19 x1024   ->    19 x  19 x1024\n",
            "   66 conv    512  1 x 1 / 1    19 x  19 x1024   ->    19 x  19 x 512  0.379 BFLOPs\n",
            "   67 conv   1024  3 x 3 / 1    19 x  19 x 512   ->    19 x  19 x1024  3.407 BFLOPs\n",
            "   68 res   65                  19 x  19 x1024   ->    19 x  19 x1024\n",
            "   69 conv    512  1 x 1 / 1    19 x  19 x1024   ->    19 x  19 x 512  0.379 BFLOPs\n",
            "   70 conv   1024  3 x 3 / 1    19 x  19 x 512   ->    19 x  19 x1024  3.407 BFLOPs\n",
            "   71 res   68                  19 x  19 x1024   ->    19 x  19 x1024\n",
            "   72 conv    512  1 x 1 / 1    19 x  19 x1024   ->    19 x  19 x 512  0.379 BFLOPs\n",
            "   73 conv   1024  3 x 3 / 1    19 x  19 x 512   ->    19 x  19 x1024  3.407 BFLOPs\n",
            "   74 res   71                  19 x  19 x1024   ->    19 x  19 x1024\n",
            "   75 conv    512  1 x 1 / 1    19 x  19 x1024   ->    19 x  19 x 512  0.379 BFLOPs\n",
            "   76 conv   1024  3 x 3 / 1    19 x  19 x 512   ->    19 x  19 x1024  3.407 BFLOPs\n",
            "   77 conv    512  1 x 1 / 1    19 x  19 x1024   ->    19 x  19 x 512  0.379 BFLOPs\n",
            "   78 conv   1024  3 x 3 / 1    19 x  19 x 512   ->    19 x  19 x1024  3.407 BFLOPs\n",
            "   79 conv    512  1 x 1 / 1    19 x  19 x1024   ->    19 x  19 x 512  0.379 BFLOPs\n",
            "   80 conv   1024  3 x 3 / 1    19 x  19 x 512   ->    19 x  19 x1024  3.407 BFLOPs\n",
            "   81 conv     24  1 x 1 / 1    19 x  19 x1024   ->    19 x  19 x  24  0.018 BFLOPs\n",
            "   82 yolo\n",
            "   83 route  79\n",
            "   84 conv    256  1 x 1 / 1    19 x  19 x 512   ->    19 x  19 x 256  0.095 BFLOPs\n",
            "   85 upsample            2x    19 x  19 x 256   ->    38 x  38 x 256\n",
            "   86 route  85 61\n",
            "   87 conv    256  1 x 1 / 1    38 x  38 x 768   ->    38 x  38 x 256  0.568 BFLOPs\n",
            "   88 conv    512  3 x 3 / 1    38 x  38 x 256   ->    38 x  38 x 512  3.407 BFLOPs\n",
            "   89 conv    256  1 x 1 / 1    38 x  38 x 512   ->    38 x  38 x 256  0.379 BFLOPs\n",
            "   90 conv    512  3 x 3 / 1    38 x  38 x 256   ->    38 x  38 x 512  3.407 BFLOPs\n",
            "   91 conv    256  1 x 1 / 1    38 x  38 x 512   ->    38 x  38 x 256  0.379 BFLOPs\n",
            "   92 conv    512  3 x 3 / 1    38 x  38 x 256   ->    38 x  38 x 512  3.407 BFLOPs\n",
            "   93 conv      4  1 x 1 / 1    38 x  38 x 512   ->    38 x  38 x   4  0.006 BFLOPs\n",
            "   94 yolo\n",
            "darknet: ./src/parser.c:315: parse_yolo: Assertion `l.outputs == params.inputs' failed.\n"
          ],
          "name": "stdout"
        }
      ]
    },
    {
      "cell_type": "code",
      "metadata": {
        "id": "tieLWb2iAJF6",
        "outputId": "422a5681-73f5-4428-d73c-67676d45c153",
        "colab": {
          "base_uri": "https://localhost:8080/"
        }
      },
      "source": [
        "!darknet/darknet"
      ],
      "execution_count": null,
      "outputs": [
        {
          "output_type": "stream",
          "text": [
            "usage: darknet/darknet <function>\n"
          ],
          "name": "stdout"
        }
      ]
    }
  ]
}