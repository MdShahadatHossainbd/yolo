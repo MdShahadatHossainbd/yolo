{
  "nbformat": 4,
  "nbformat_minor": 0,
  "metadata": {
    "colab": {
      "name": "00. YOLOv3 Object Detection with Darknet.ipynb",
      "provenance": [],
      "collapsed_sections": [],
      "authorship_tag": "ABX9TyNWnyijou3deO7wGKQ02ehW",
      "include_colab_link": true
    },
    "kernelspec": {
      "name": "python3",
      "display_name": "Python 3"
    },
    "accelerator": "GPU"
  },
  "cells": [
    {
      "cell_type": "markdown",
      "metadata": {
        "id": "view-in-github",
        "colab_type": "text"
      },
      "source": [
        "<a href=\"https://colab.research.google.com/github/MdShahadatHossainbd/yolo/blob/main/00_YOLOv3_Object_Detection_with_Darknet.ipynb\" target=\"_parent\"><img src=\"https://colab.research.google.com/assets/colab-badge.svg\" alt=\"Open In Colab\"/></a>"
      ]
    },
    {
      "cell_type": "markdown",
      "metadata": {
        "id": "vzXvJEazLtCz"
      },
      "source": [
        "https://pjreddie.com/darknet/yolo/\n",
        "\n",
        "https://github.com/AlexeyAB/darknet"
      ]
    },
    {
      "cell_type": "code",
      "metadata": {
        "id": "TncG3U9EemLC",
        "outputId": "aabea7b1-b6bc-4ac1-822d-12c728370c81",
        "colab": {
          "base_uri": "https://localhost:8080/",
          "height": 109
        }
      },
      "source": [
        "!git clone https://github.com/AlexeyAB/darknet.git"
      ],
      "execution_count": 1,
      "outputs": [
        {
          "output_type": "stream",
          "text": [
            "Cloning into 'darknet'...\n",
            "remote: Enumerating objects: 14333, done.\u001b[K\n",
            "remote: Total 14333 (delta 0), reused 0 (delta 0), pack-reused 14333\u001b[K\n",
            "Receiving objects: 100% (14333/14333), 12.87 MiB | 6.63 MiB/s, done.\n",
            "Resolving deltas: 100% (9774/9774), done.\n"
          ],
          "name": "stdout"
        }
      ]
    },
    {
      "cell_type": "code",
      "metadata": {
        "id": "6P5xCF9nFGoS",
        "outputId": "9a979ce0-6d02-4de1-aed1-f75ec2b30c6c",
        "colab": {
          "base_uri": "https://localhost:8080/",
          "height": 219
        }
      },
      "source": [
        "!wget https://pjreddie.com/media/files/yolov3.weights  #move this file darknet"
      ],
      "execution_count": 2,
      "outputs": [
        {
          "output_type": "stream",
          "text": [
            "--2020-10-19 08:54:58--  https://pjreddie.com/media/files/yolov3.weights\n",
            "Resolving pjreddie.com (pjreddie.com)... 128.208.4.108\n",
            "Connecting to pjreddie.com (pjreddie.com)|128.208.4.108|:443... connected.\n",
            "HTTP request sent, awaiting response... 200 OK\n",
            "Length: 248007048 (237M) [application/octet-stream]\n",
            "Saving to: ‘yolov3.weights’\n",
            "\n",
            "yolov3.weights      100%[===================>] 236.52M  66.1KB/s    in 70m 55s \n",
            "\n",
            "2020-10-19 10:05:55 (56.9 KB/s) - ‘yolov3.weights’ saved [248007048/248007048]\n",
            "\n"
          ],
          "name": "stdout"
        }
      ]
    },
    {
      "cell_type": "code",
      "metadata": {
        "id": "WW5gj5GOGxJf"
      },
      "source": [
        "%cd darknet"
      ],
      "execution_count": null,
      "outputs": []
    },
    {
      "cell_type": "code",
      "metadata": {
        "id": "mIP9EGrXG1FS"
      },
      "source": [
        "! /content/darknet detect cfg/yolov3.cfg yolov3.weights data/dog.jpg"
      ],
      "execution_count": null,
      "outputs": []
    }
  ]
}